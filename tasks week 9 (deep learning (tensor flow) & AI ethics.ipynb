{
 "cells": [
  {
   "cell_type": "markdown",
   "metadata": {},
   "source": [
    "<center><font color=yellow><b>HOME LEARNING TASKS</b></font></center><br><br>\n",
    "\n",
    "Practical: Artificial Intelligence (AI) <br>\n",
    "In Data Science we process a lot data through AI. With the GDPR, it is becoming increasingly important to understand the ethics behind the data that is collected, stored, processed and evaluated. <br><br><br>\n",
    "<b>Your task is to:</b><br><br>\n",
    "• Find out what Responsible AI is?<br>\n",
    "• Find instances where AI has failed? Or been used\n",
    "maliciously or incorrectly.<br>\n",
    "• Implications of when AI fails. There is a specific article in the GDPR Law that covers this, especially with automated decision making. (opt in and out options).<br>\n",
    "• What should organisations do to ensure that they are being responsible with AI and the wider use of data in general?<br>\n",
    "• Maximum 500 words. <br><br>"
   ]
  },
  {
   "cell_type": "markdown",
   "metadata": {},
   "source": [
    "<b><font color=gold>Responsible AI </font></b>is the practice of designing, developing, and deploying AI with good intention. It is a standard for ensuring that AI is safe, trustworthy and unbiased. Responsible AI ensures that AI and machine learning (ML) models are Robust, Explainable, Ethical and Efficient.<br><br><br>\n",
    "\n",
    "<b><font color=gold>Instances where AI has failed</font></b><br><br>\n",
    "a) Amazon wanted to automate its hiring process to expedite the selection of candidates for the thousands of job openings they have. Everything ended up being a public relations disaster since the system turned out to be sexist, favoring white guys. The training data used to create the model was most likely imbalanced, resulting in candidate selection bias. This is also another example of AI Failures.<br><br>\n",
    "\n",
    "b) Make sure no one is wearing a mask with your face if you have an iPhone X with a Face ID. Face ID, according to Apple, creates a 3-dimensional model of your face using the iPhone X’s powerful front-facing camera and machine learning. The machine learning/AI component allowed the system to adjust to aesthetic changes (such as putting on make-up, donning a pair of glasses, or wrapping a scarf around your neck) while maintaining security. Bkav, a security business located in Vietnam, discovered that by attaching 2D “eyes” to a 3D mask, they could successfully unlock a Face ID-equipped iPhone. The stone powder mask, which cost approximately US$200, was created. The eyeballs were simply infrared pictures printed on paper. Wired, on the other hand, attempted to defeat Face ID using masks but was unable to replicate the results.<br><br>\n",
    "\n",
    "<b><font color=gold>Implications of when AI fails</font></b><br><br>\n",
    "The decisions taken may lead to significant adverse effects for some people.<br><br>\n",
    "The data subject shall have the right not to be subject to a decision based solely on automated processing, including profiling, which produces legal effects concerning him or her or similarly significantly affects him or her.<br><br>\n",
    "\n",
    "<b><font color=gold>What should organisations do to ensure that they are being responsible with AI and the wider use of data in general?</font></b><br>\n",
    "1. Establishing internal governance, for example by an objective review panel, that is diverse and that has the knowledge to understand the possible consequences of AI infused systems. A key success factor is leadership support and the power to hold leadership accountable.\n",
    "<br><br>\n",
    "2. Ensuring the right technical guardrails, creating quality assurance and governance to create traceability and auditability for AI systems. This is an important part of every organisation’s toolkit to allow operational and responsible AI to scale.\n",
    "<br><br>\n",
    "3. Investing more in their own AI education and training so that all stakeholders – both internal and external – are informed of AI capabilities as well as the pitfalls."
   ]
  },
  {
   "cell_type": "markdown",
   "metadata": {},
   "source": [
    "<center><font color=yellow><b>OPTIONAL HOME LEARNING TASKS</b></font></center><br><br>\n",
    "<b>Use the below website to practice.</b><br>\n",
    "https://machinelearningmastery.com/tensorflow-tutorial-deep-learning-with-tf-keras/ <br><br>\n",
    "The explanation and code is in there and you can use the copy\n",
    "function to help.<br>\n",
    "The steps and code are very similar – you should start to notice the similarities yourselves.<br>\n",
    "<i>This page features multiple neural network tutorials – if you chose to do this optional task, you only need to pick one of these.</i>"
   ]
  },
  {
   "cell_type": "code",
   "execution_count": null,
   "metadata": {},
   "outputs": [],
   "source": []
  }
 ],
 "metadata": {
  "language_info": {
   "name": "python"
  },
  "orig_nbformat": 4
 },
 "nbformat": 4,
 "nbformat_minor": 2
}
