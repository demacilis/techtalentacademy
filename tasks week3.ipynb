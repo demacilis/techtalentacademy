{
 "cells": [
  {
   "cell_type": "markdown",
   "metadata": {},
   "source": [
    "<center><font color=yellow><b>HOME LEARNING TASKS</b></font></center><br><br>"
   ]
  },
  {
   "cell_type": "markdown",
   "metadata": {},
   "source": [
    "• <b>Task 1: Write a program that asks the user for an integer number and checks if it is > 10. If it is, it will print “Number is Greater than 10”, else “Number is smaller than 10”.</b>"
   ]
  },
  {
   "cell_type": "code",
   "execution_count": 46,
   "metadata": {},
   "outputs": [
    {
     "name": "stdout",
     "output_type": "stream",
     "text": [
      "Number smaller than 10\n"
     ]
    }
   ],
   "source": [
    "num = int(input(\"What is your number?\"))\n",
    "\n",
    "if num > 10:\n",
    "    print(\"Number is greater than 10\")\n",
    "else:\n",
    "    print(\"Number smaller than 10\")"
   ]
  },
  {
   "cell_type": "markdown",
   "metadata": {},
   "source": [
    "• <b>Task 2: Then write a loop program that ask the user for an integer number and check if it is < 10. If it is < 10 then it keeps adding 1 to the value.</b>"
   ]
  },
  {
   "cell_type": "code",
   "execution_count": 72,
   "metadata": {},
   "outputs": [
    {
     "name": "stdout",
     "output_type": "stream",
     "text": [
      "4\n",
      "5\n",
      "6\n",
      "7\n",
      "8\n",
      "9\n"
     ]
    }
   ],
   "source": [
    "\n",
    "num = int(input(\"What is your number?\"))\n",
    "\n",
    "while num < 10:\n",
    "    print(num)\n",
    "    num += 1\n",
    "    if num == 10:\n",
    "        break\n"
   ]
  },
  {
   "cell_type": "markdown",
   "metadata": {},
   "source": [
    "• <b>Create your own Flow Diagram, a subject of your own choice, Example: Fast food order and convert it into code. (Lucid Chart)</b>\n",
    "\n",
    "\n",
    "Start<br>\n",
    "  |<br>\n",
    "Order sandwich<br>\n",
    "  |<br>\n",
    "Want drink? --Yes--> Order drink<br>\n",
    "No|<---------------------|<br>\n",
    "  |<br>\n",
    "Want side?  --Yes--> Order side<br>\n",
    "No|<---------------------|<br>\n",
    "  |<br>\n",
    "Pay cashier<br>\n",
    "  |<br>\n",
    " End\n"
   ]
  },
  {
   "cell_type": "code",
   "execution_count": 70,
   "metadata": {},
   "outputs": [
    {
     "name": "stdout",
     "output_type": "stream",
     "text": [
      "Thanks, now pay\n"
     ]
    }
   ],
   "source": [
    "order = input(\"Welcome to Sandwich World, what sandwich could I get you? (chicken sandwich is the only option)\")\n",
    "drink = [\"juice\", \"cola\", \"coke\", \"soda\"]\n",
    "food = \"chicken sandwich\"\n",
    "\n",
    "# while True:\n",
    "#     if order == \"sandwich\":\n",
    "#         input(\"Thanks, What drink would you like?\")\n",
    "\n",
    "#         if input == drink:\n",
    "#             print(\"Thanks, anything else?\")\n",
    "#         elif input == str(\"no\") or str(\"NO\"):\n",
    "#             print(\"Thanks, anything else?\")\n",
    "#         else:\n",
    "#             (\"Sorry, we don't have that\")\n",
    "#     else:\n",
    "#         print(\"Sorry we don't have that\")\n",
    "\n",
    "\n",
    "if order == \"chicken sandwich\":\n",
    "    choice = input(\"Great, would yo like a drink with that? yes/no: \")\n",
    "    if choice == \"yes\":\n",
    "        drink_choice = input(\"What drink would you like?\")\n",
    "        if drink_choice in drink:\n",
    "            print(\"Thanks, now pay\")\n",
    "                \n",
    "    else:\n",
    "        print(\"Thanks, now pay\")\n",
    "\n",
    "else:\n",
    "    print(\"Sorry, we don't have that\")\n",
    "        \n"
   ]
  },
  {
   "cell_type": "markdown",
   "metadata": {},
   "source": [
    "• <b>As an extension to the motorbike task that costs £2000 and loses 10% of its value every year. Set up a function that performs the calculation by passing in parameters. Then using a loop, print the value of the bike every following year until it falls below £1000.</b>"
   ]
  },
  {
   "cell_type": "code",
   "execution_count": 28,
   "metadata": {},
   "outputs": [
    {
     "name": "stdout",
     "output_type": "stream",
     "text": [
      "Year 1 £ 2500\n",
      "Year 2 £ 2250.0\n",
      "Year 3 £ 2025.0\n",
      "Year 4 £ 1822.5\n",
      "Year 5 £ 1640.25\n",
      "Year 6 £ 1476.2250000000001\n",
      "Year 7 £ 1328.6025000000002\n",
      "Year 8 £ 1195.7422500000002\n",
      "Year 9 £ 1076.1680250000002\n"
     ]
    }
   ],
   "source": [
    "x = False\n",
    "y = int(input(\"Please, enter the value\"))\n",
    "year = 1\n",
    "\n",
    "\n",
    "while x == False:\n",
    "    print(\"Year\", year, \"£\", y)\n",
    "    year = year + 1\n",
    "    y = y * 0.9\n",
    "\n",
    "    if y < 1000:\n",
    "        x = True"
   ]
  },
  {
   "cell_type": "markdown",
   "metadata": {},
   "source": [
    "• <b>Write a program which will ask for two numbers from a user. Then offer an option menu to the user giving them a choice of Math’s operators. Once the user has selected which operator they wish to use, perform the calculation by using a procedure and passing parameters.</b>"
   ]
  },
  {
   "cell_type": "code",
   "execution_count": 42,
   "metadata": {},
   "outputs": [
    {
     "name": "stdout",
     "output_type": "stream",
     "text": [
      "Select operation\n",
      "1. Add\n",
      "2. Substract\n",
      "3. Multiply\n",
      "4. Divide\n",
      "7.0\n",
      "1.6666666666666667\n",
      "Invalid input\n",
      "3.0\n"
     ]
    }
   ],
   "source": [
    "def add(x, y):\n",
    "    return x + y\n",
    "\n",
    "def substract(x, y):\n",
    "    return x - y\n",
    "\n",
    "def multiply(x, y):\n",
    "    return x * y\n",
    "\n",
    "def divide(x, y):\n",
    "    return x / y\n",
    "\n",
    "print(\"Select operation\")\n",
    "print(\"1. Add\")\n",
    "print(\"2. Substract\")\n",
    "print(\"3. Multiply\")\n",
    "print(\"4. Divide\")\n",
    "\n",
    "while True:\n",
    "    choice = input(\"Enter choice \")\n",
    "\n",
    "    if choice in ('1', '2', '3', '4'):\n",
    "        num1 = float(input(\"Enter first number: \"))\n",
    "        num2 = float(input(\"Enter second number \"))\n",
    "\n",
    "        if choice == '1':\n",
    "            print(add(num1, num2))\n",
    "        elif choice == '2':\n",
    "            print(substract(num1, num2))\n",
    "        elif choice == '3':\n",
    "            print(multiply(num1, num2))\n",
    "        elif choice == '4':\n",
    "            print(divide(num1, num2))\n",
    "        next_calculation = input(\"Another one? yes/no: \")\n",
    "        if next_calculation == \"no\":\n",
    "            break\n",
    "    else:\n",
    "        print(\"Invalid input\")\n",
    "\n",
    "\n"
   ]
  }
 ],
 "metadata": {
  "interpreter": {
   "hash": "7812ea015bdcee6f23a998adcdd2ef97c151c0c241b7b7070987d9313e41299d"
  },
  "kernelspec": {
   "display_name": "",
   "language": "python",
   "name": "python3"
  },
  "language_info": {
   "codemirror_mode": {
    "name": "ipython",
    "version": 3
   },
   "file_extension": ".py",
   "mimetype": "text/x-python",
   "name": "python",
   "nbconvert_exporter": "python",
   "pygments_lexer": "ipython3",
   "version": "3.9.1"
  },
  "orig_nbformat": 4
 },
 "nbformat": 4,
 "nbformat_minor": 2
}
