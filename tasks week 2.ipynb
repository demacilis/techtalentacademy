{
 "cells": [
  {
   "cell_type": "markdown",
   "metadata": {},
   "source": [
    "* TASK 1 *\n",
    "\n",
    "Write a program that does the following:\n",
    "a) Stores a random number (1-10) in a variable – see hint below.\n",
    "b) Asks a user for their name and stores this in a variable.\n",
    "c) Asks a user to guess the number between 1 and 10.\n",
    "d) Tells the user whether they have guessed correctly."
   ]
  },
  {
   "cell_type": "code",
   "execution_count": 17,
   "metadata": {},
   "outputs": [
    {
     "name": "stdout",
     "output_type": "stream",
     "text": [
      "Marcin\n",
      "5\n",
      "Sorry, try again\n"
     ]
    }
   ],
   "source": [
    "from random import randint \n",
    "\n",
    "number = randint(1, 10)\n",
    "\n",
    "user_name = input(\"What is your name?\")\n",
    "user_num = input(\"Choose a number 1-10\")\n",
    "\n",
    "print(user_name)\n",
    "print(user_num)\n",
    "\n",
    "\n",
    "if user_num == number:\n",
    "    print(\"Well done\")\n",
    "else:\n",
    "    print(\"Sorry, try again\")\n",
    "\n",
    "\n",
    "\n"
   ]
  },
  {
   "cell_type": "markdown",
   "metadata": {},
   "source": [
    "* TASK 2 *\n",
    "\n",
    "Write a program that asks a user for their favourite number between 1 and 100 and then tells them a joke based on the number. You should use a minimum of 3 jokes."
   ]
  },
  {
   "cell_type": "code",
   "execution_count": 20,
   "metadata": {},
   "outputs": [
    {
     "name": "stdout",
     "output_type": "stream",
     "text": [
      "8\n",
      "Why did the two fours skip a meal? \n",
      " Because they already eight!\n"
     ]
    }
   ],
   "source": [
    "user_num = int(input(\"What is your favorite number? Choose one between 1 and 100\"))\n",
    "\n",
    "print(user_num)\n",
    "\n",
    "if user_num == 9 :\n",
    "    print(\"Why is the number nine so sassy? \\n Because she can't even\")\n",
    "elif user_num == 0 :\n",
    "    print(\"Why was zero jealous of eight? \\n Because he was wearing a brand new designer belt!\")\n",
    "elif user_num == 8 :\n",
    "    print(\"Why did the two fours skip a meal? \\n Because they already eight!\")\n",
    "else: \n",
    "    print(\"Sorry, no joke for that number\")"
   ]
  },
  {
   "cell_type": "markdown",
   "metadata": {},
   "source": [
    "* TASK 3 *\n",
    "\n",
    "Write a program that allows user to enter their favourite starter, main course, dessert and drink.\n",
    "Concatenate these and output a message which says – “Your favourite meal is .........with a glass of....”"
   ]
  },
  {
   "cell_type": "code",
   "execution_count": 25,
   "metadata": {},
   "outputs": [
    {
     "name": "stdout",
     "output_type": "stream",
     "text": [
      "Your favorite meal is sdssd, followed by ds, for dessert dsdsd with a glass of sdsd \n"
     ]
    }
   ],
   "source": [
    "starter = input(\"What is your favorite starter?\")\n",
    "main = input(\"What is your favorite main?\")\n",
    "dessert = input(\"What is your favorite dessert?\")\n",
    "drink = input(\"What is your favorite drink?\")\n",
    "\n",
    "print(f\"Your favorite meal is {starter}, followed by {main}, for dessert {dessert} with a glass ofs {drink} \")"
   ]
  },
  {
   "cell_type": "markdown",
   "metadata": {},
   "source": [
    "* TASK 4 *\n",
    "\n",
    "A motorbike costs £2000 and loses 10% of its value every year. Using a loop, print the value of the bike every following year until it falls below £1000."
   ]
  },
  {
   "cell_type": "code",
   "execution_count": 53,
   "metadata": {},
   "outputs": [
    {
     "name": "stdout",
     "output_type": "stream",
     "text": [
      "£ 2000\n",
      "£ 1800.0\n",
      "£ 1620.0\n",
      "£ 1458.0\n",
      "£ 1312.2\n",
      "£ 1180.98\n",
      "£ 1062.882\n"
     ]
    }
   ],
   "source": [
    "x = False\n",
    "y = 2000\n",
    "\n",
    "while x == False:\n",
    "    print(\"£\", y)\n",
    "    y = y * 0.9\n",
    "\n",
    "    if y < 1000:\n",
    "        x = True\n",
    "\n"
   ]
  },
  {
   "cell_type": "markdown",
   "metadata": {},
   "source": [
    "* TASK 5 *\n",
    "\n",
    "Write a program which will ask for two numbers from a user. Then offer a menu to the user giving them a choice of operator:\n",
    "e.g. – Enter “a” if you want to add “b” if you want to subtract\n",
    "Include +, -, /, *, ** square (to the power of). Once the user has selected which operator they wish to use, perform the calculation."
   ]
  },
  {
   "cell_type": "code",
   "execution_count": 65,
   "metadata": {},
   "outputs": [
    {
     "name": "stdout",
     "output_type": "stream",
     "text": [
      "5 5\n",
      "3125\n"
     ]
    }
   ],
   "source": [
    "\n",
    "\n",
    "\n",
    "\n",
    "num1 = int(input(\"What is your first number?\"))\n",
    "num2 = int(input(\"What is the second number?\"))\n",
    "\n",
    "print(num1, num2)\n",
    "\n",
    "choice = (input(\"Choose an operation to perform \\n a) add \\n b) substract \\n c) divide \\n d) multiply \\n e) to the power of\"))\n",
    "\n",
    "\n",
    "\n",
    "if choice == \"a\":\n",
    "    print(num1 + num2)\n",
    "elif choice == \"b\":\n",
    "    print(num1 - num2)\n",
    "elif choice == \"c\":\n",
    "    print(num1 / num2)\n",
    "elif choice == \"d\":\n",
    "    print(num1 * num2)\n",
    "elif choice == \"e\":\n",
    "    print(num1 ** num2)\n",
    "else:\n",
    "    print(\"Wrong operation\")\n",
    "\n"
   ]
  }
 ],
 "metadata": {
  "interpreter": {
   "hash": "7812ea015bdcee6f23a998adcdd2ef97c151c0c241b7b7070987d9313e41299d"
  },
  "kernelspec": {
   "display_name": "",
   "language": "python",
   "name": "python3"
  },
  "language_info": {
   "codemirror_mode": {
    "name": "ipython",
    "version": 3
   },
   "file_extension": ".py",
   "mimetype": "text/x-python",
   "name": "python",
   "nbconvert_exporter": "python",
   "pygments_lexer": "ipython3",
   "version": "3.9.1"
  },
  "orig_nbformat": 4
 },
 "nbformat": 4,
 "nbformat_minor": 2
}
