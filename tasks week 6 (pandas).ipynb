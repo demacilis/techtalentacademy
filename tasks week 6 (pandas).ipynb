{
 "cells": [
  {
   "cell_type": "markdown",
   "metadata": {},
   "source": [
    "<center><font color=yellow><b>LESSON TASKS</b></font></center><br><br>\n",
    "Create a CSV file (in excel) of 15 holiday destinations for a website<br><br>\n",
    "1. Add in a column of destinations<br>\n",
    "2. Add in a column that shows feedback score out of 10 for that\n",
    "destination<br>\n",
    "3. Add in a column for average hotel star rating for those\n",
    "destinations<br>\n",
    "4. Add in a column for number of all-inclusive hotels within each\n",
    "destination<br>\n",
    "5. Add in the most visited city in each destination<br><br>\n",
    "\n",
    "\n",
    "1. How many rows and columns are there in your file?<br>\n",
    "2. Print row 3-8 ( using iloc/loc).<br>\n",
    "3. Find the mean number of all-inclusive hotels across all destinations.<br>\n",
    "4. Find the lowest scoring destination.<br>\n",
    "5. Find the highest scoring destination.<br>\n",
    "6. Find all the destinations where there are more than 9 all-inclusive hotels.<br>\n",
    "7. Filter the data by score above 8.<br>\n",
    "8. Filter the data score below 2 ( I need to know if these destinations should be removed or there is a problem)\n",
    "Extension\n",
    "1. Is there a correlation between number of all-inclusive hotels and score?<br>\n",
    "2. Create a data visualisation diagram to show destination and highest scores?<br>"
   ]
  },
  {
   "cell_type": "code",
   "execution_count": 4,
   "metadata": {},
   "outputs": [],
   "source": [
    "import pandas as pd\n",
    "data = pd.read_csv(\"destinations.csv\")\n"
   ]
  },
  {
   "cell_type": "markdown",
   "metadata": {},
   "source": [
    "1. How many rows and columns are there in your file?"
   ]
  },
  {
   "cell_type": "code",
   "execution_count": 37,
   "metadata": {},
   "outputs": [
    {
     "data": {
      "text/html": [
       "<div>\n",
       "<style scoped>\n",
       "    .dataframe tbody tr th:only-of-type {\n",
       "        vertical-align: middle;\n",
       "    }\n",
       "\n",
       "    .dataframe tbody tr th {\n",
       "        vertical-align: top;\n",
       "    }\n",
       "\n",
       "    .dataframe thead th {\n",
       "        text-align: right;\n",
       "    }\n",
       "</style>\n",
       "<table border=\"1\" class=\"dataframe\">\n",
       "  <thead>\n",
       "    <tr style=\"text-align: right;\">\n",
       "      <th></th>\n",
       "      <th>destination</th>\n",
       "      <th>feedback_score</th>\n",
       "      <th>hotel_rating</th>\n",
       "      <th>all-inclusive_hotels</th>\n",
       "      <th>most_visited_city</th>\n",
       "    </tr>\n",
       "  </thead>\n",
       "  <tbody>\n",
       "    <tr>\n",
       "      <th>0</th>\n",
       "      <td>Maldives</td>\n",
       "      <td>10</td>\n",
       "      <td>5</td>\n",
       "      <td>6</td>\n",
       "      <td>Male</td>\n",
       "    </tr>\n",
       "    <tr>\n",
       "      <th>1</th>\n",
       "      <td>Mauritius</td>\n",
       "      <td>10</td>\n",
       "      <td>5</td>\n",
       "      <td>8</td>\n",
       "      <td>Port Louis</td>\n",
       "    </tr>\n",
       "    <tr>\n",
       "      <th>2</th>\n",
       "      <td>Thailand</td>\n",
       "      <td>9</td>\n",
       "      <td>4</td>\n",
       "      <td>12</td>\n",
       "      <td>Bangkok</td>\n",
       "    </tr>\n",
       "    <tr>\n",
       "      <th>3</th>\n",
       "      <td>Sri Lanka</td>\n",
       "      <td>9</td>\n",
       "      <td>4</td>\n",
       "      <td>7</td>\n",
       "      <td>Galle</td>\n",
       "    </tr>\n",
       "    <tr>\n",
       "      <th>4</th>\n",
       "      <td>Bali</td>\n",
       "      <td>8</td>\n",
       "      <td>5</td>\n",
       "      <td>5</td>\n",
       "      <td>Denpasar</td>\n",
       "    </tr>\n",
       "    <tr>\n",
       "      <th>5</th>\n",
       "      <td>Italy</td>\n",
       "      <td>8</td>\n",
       "      <td>4</td>\n",
       "      <td>10</td>\n",
       "      <td>Tuscany</td>\n",
       "    </tr>\n",
       "    <tr>\n",
       "      <th>6</th>\n",
       "      <td>USA</td>\n",
       "      <td>8</td>\n",
       "      <td>5</td>\n",
       "      <td>30</td>\n",
       "      <td>Vegas</td>\n",
       "    </tr>\n",
       "    <tr>\n",
       "      <th>7</th>\n",
       "      <td>Vietnam</td>\n",
       "      <td>7</td>\n",
       "      <td>3</td>\n",
       "      <td>4</td>\n",
       "      <td>Ho Chi Minh</td>\n",
       "    </tr>\n",
       "    <tr>\n",
       "      <th>8</th>\n",
       "      <td>Antigua</td>\n",
       "      <td>7</td>\n",
       "      <td>3</td>\n",
       "      <td>3</td>\n",
       "      <td>English Harbor</td>\n",
       "    </tr>\n",
       "    <tr>\n",
       "      <th>9</th>\n",
       "      <td>South Africa</td>\n",
       "      <td>6</td>\n",
       "      <td>4</td>\n",
       "      <td>15</td>\n",
       "      <td>Johannesburg</td>\n",
       "    </tr>\n",
       "    <tr>\n",
       "      <th>10</th>\n",
       "      <td>Saint Lucia</td>\n",
       "      <td>6</td>\n",
       "      <td>3</td>\n",
       "      <td>5</td>\n",
       "      <td>Castries</td>\n",
       "    </tr>\n",
       "    <tr>\n",
       "      <th>11</th>\n",
       "      <td>Mexico</td>\n",
       "      <td>5</td>\n",
       "      <td>3</td>\n",
       "      <td>20</td>\n",
       "      <td>Mexico City</td>\n",
       "    </tr>\n",
       "    <tr>\n",
       "      <th>12</th>\n",
       "      <td>India</td>\n",
       "      <td>5</td>\n",
       "      <td>3</td>\n",
       "      <td>30</td>\n",
       "      <td>Delhi</td>\n",
       "    </tr>\n",
       "    <tr>\n",
       "      <th>13</th>\n",
       "      <td>Kenya</td>\n",
       "      <td>5</td>\n",
       "      <td>3</td>\n",
       "      <td>5</td>\n",
       "      <td>Nairobi</td>\n",
       "    </tr>\n",
       "    <tr>\n",
       "      <th>14</th>\n",
       "      <td>Barbados</td>\n",
       "      <td>5</td>\n",
       "      <td>5</td>\n",
       "      <td>7</td>\n",
       "      <td>Bridgetown</td>\n",
       "    </tr>\n",
       "  </tbody>\n",
       "</table>\n",
       "</div>"
      ],
      "text/plain": [
       "     destination  feedback_score  hotel_rating  all-inclusive_hotels  \\\n",
       "0       Maldives              10             5                     6   \n",
       "1      Mauritius              10             5                     8   \n",
       "2       Thailand               9             4                    12   \n",
       "3      Sri Lanka               9             4                     7   \n",
       "4           Bali               8             5                     5   \n",
       "5          Italy               8             4                    10   \n",
       "6            USA               8             5                    30   \n",
       "7        Vietnam               7             3                     4   \n",
       "8        Antigua               7             3                     3   \n",
       "9   South Africa               6             4                    15   \n",
       "10   Saint Lucia               6             3                     5   \n",
       "11        Mexico               5             3                    20   \n",
       "12         India               5             3                    30   \n",
       "13         Kenya               5             3                     5   \n",
       "14      Barbados               5             5                     7   \n",
       "\n",
       "   most_visited_city  \n",
       "0               Male  \n",
       "1         Port Louis  \n",
       "2            Bangkok  \n",
       "3              Galle  \n",
       "4           Denpasar  \n",
       "5            Tuscany  \n",
       "6              Vegas  \n",
       "7        Ho Chi Minh  \n",
       "8     English Harbor  \n",
       "9       Johannesburg  \n",
       "10          Castries  \n",
       "11       Mexico City  \n",
       "12             Delhi  \n",
       "13           Nairobi  \n",
       "14        Bridgetown  "
      ]
     },
     "execution_count": 37,
     "metadata": {},
     "output_type": "execute_result"
    }
   ],
   "source": [
    "data.shape\n",
    "data"
   ]
  },
  {
   "cell_type": "markdown",
   "metadata": {},
   "source": [
    "2. Print row 3-8 ( using iloc/loc)."
   ]
  },
  {
   "cell_type": "code",
   "execution_count": 38,
   "metadata": {},
   "outputs": [
    {
     "data": {
      "text/html": [
       "<div>\n",
       "<style scoped>\n",
       "    .dataframe tbody tr th:only-of-type {\n",
       "        vertical-align: middle;\n",
       "    }\n",
       "\n",
       "    .dataframe tbody tr th {\n",
       "        vertical-align: top;\n",
       "    }\n",
       "\n",
       "    .dataframe thead th {\n",
       "        text-align: right;\n",
       "    }\n",
       "</style>\n",
       "<table border=\"1\" class=\"dataframe\">\n",
       "  <thead>\n",
       "    <tr style=\"text-align: right;\">\n",
       "      <th></th>\n",
       "      <th>destination</th>\n",
       "      <th>feedback_score</th>\n",
       "      <th>hotel_rating</th>\n",
       "      <th>all-inclusive_hotels</th>\n",
       "      <th>most_visited_city</th>\n",
       "    </tr>\n",
       "  </thead>\n",
       "  <tbody>\n",
       "    <tr>\n",
       "      <th>3</th>\n",
       "      <td>Sri Lanka</td>\n",
       "      <td>9</td>\n",
       "      <td>4</td>\n",
       "      <td>7</td>\n",
       "      <td>Galle</td>\n",
       "    </tr>\n",
       "    <tr>\n",
       "      <th>4</th>\n",
       "      <td>Bali</td>\n",
       "      <td>8</td>\n",
       "      <td>5</td>\n",
       "      <td>5</td>\n",
       "      <td>Denpasar</td>\n",
       "    </tr>\n",
       "    <tr>\n",
       "      <th>5</th>\n",
       "      <td>Italy</td>\n",
       "      <td>8</td>\n",
       "      <td>4</td>\n",
       "      <td>10</td>\n",
       "      <td>Tuscany</td>\n",
       "    </tr>\n",
       "    <tr>\n",
       "      <th>6</th>\n",
       "      <td>USA</td>\n",
       "      <td>8</td>\n",
       "      <td>5</td>\n",
       "      <td>30</td>\n",
       "      <td>Vegas</td>\n",
       "    </tr>\n",
       "    <tr>\n",
       "      <th>7</th>\n",
       "      <td>Vietnam</td>\n",
       "      <td>7</td>\n",
       "      <td>3</td>\n",
       "      <td>4</td>\n",
       "      <td>Ho Chi Minh</td>\n",
       "    </tr>\n",
       "  </tbody>\n",
       "</table>\n",
       "</div>"
      ],
      "text/plain": [
       "  destination  feedback_score  hotel_rating  all-inclusive_hotels  \\\n",
       "3   Sri Lanka               9             4                     7   \n",
       "4        Bali               8             5                     5   \n",
       "5       Italy               8             4                    10   \n",
       "6         USA               8             5                    30   \n",
       "7     Vietnam               7             3                     4   \n",
       "\n",
       "  most_visited_city  \n",
       "3             Galle  \n",
       "4          Denpasar  \n",
       "5           Tuscany  \n",
       "6             Vegas  \n",
       "7       Ho Chi Minh  "
      ]
     },
     "execution_count": 38,
     "metadata": {},
     "output_type": "execute_result"
    }
   ],
   "source": [
    "data.iloc[3:8]"
   ]
  },
  {
   "cell_type": "markdown",
   "metadata": {},
   "source": [
    "3. Find the mean number of all-inclusive hotels across all destinations."
   ]
  },
  {
   "cell_type": "code",
   "execution_count": 7,
   "metadata": {},
   "outputs": [
    {
     "data": {
      "text/plain": [
       "11.133333333333333"
      ]
     },
     "execution_count": 7,
     "metadata": {},
     "output_type": "execute_result"
    }
   ],
   "source": [
    "data[\"all-inclusive_hotels\"].mean()"
   ]
  },
  {
   "cell_type": "markdown",
   "metadata": {},
   "source": [
    "4. Find the lowest scoring destination."
   ]
  },
  {
   "cell_type": "code",
   "execution_count": 8,
   "metadata": {},
   "outputs": [
    {
     "data": {
      "text/plain": [
       "3"
      ]
     },
     "execution_count": 8,
     "metadata": {},
     "output_type": "execute_result"
    }
   ],
   "source": [
    "data[\"hotel_rating\"].min()"
   ]
  },
  {
   "cell_type": "markdown",
   "metadata": {},
   "source": [
    "5. Find the highest scoring destination."
   ]
  },
  {
   "cell_type": "code",
   "execution_count": 31,
   "metadata": {},
   "outputs": [
    {
     "data": {
      "text/plain": [
       "10"
      ]
     },
     "execution_count": 31,
     "metadata": {},
     "output_type": "execute_result"
    }
   ],
   "source": [
    "data[\"feedback_score\"].max()\n"
   ]
  },
  {
   "cell_type": "markdown",
   "metadata": {},
   "source": [
    "6. Find all the destinations where there are more than 9 all-inclusive hotels."
   ]
  },
  {
   "cell_type": "code",
   "execution_count": 33,
   "metadata": {},
   "outputs": [
    {
     "name": "stdout",
     "output_type": "stream",
     "text": [
      "     destination  feedback_score  hotel_rating  all-inclusive_hotels  \\\n",
      "2       Thailand               9             4                    12   \n",
      "5          Italy               8             4                    10   \n",
      "6            USA               8             5                    30   \n",
      "9   South Africa               6             4                    15   \n",
      "11        Mexico               5             3                    20   \n",
      "12         India               5             3                    30   \n",
      "\n",
      "   most_visited_city  \n",
      "2            Bangkok  \n",
      "5            Tuscany  \n",
      "6              Vegas  \n",
      "9       Johannesburg  \n",
      "11       Mexico City  \n",
      "12             Delhi  \n"
     ]
    }
   ],
   "source": [
    "myfilter2 = data[\"all-inclusive_hotels\"] > 9\n",
    "hotels_amount = data[myfilter2]\n",
    "print(hotels_amount)"
   ]
  },
  {
   "cell_type": "markdown",
   "metadata": {},
   "source": [
    "7. Filter the data by score above 8."
   ]
  },
  {
   "cell_type": "code",
   "execution_count": 28,
   "metadata": {},
   "outputs": [
    {
     "name": "stdout",
     "output_type": "stream",
     "text": [
      "  destination  feedback_score  hotel_rating  all-inclusive_hotels  \\\n",
      "0    Maldives              10             5                     6   \n",
      "1   Mauritius              10             5                     8   \n",
      "2    Thailand               9             4                    12   \n",
      "3   Sri Lanka               9             4                     7   \n",
      "\n",
      "  most_visited_city  \n",
      "0              Male  \n",
      "1        Port Louis  \n",
      "2           Bangkok  \n",
      "3             Galle  \n"
     ]
    }
   ],
   "source": [
    "score_filter = data[\"feedback_score\"] > 8\n",
    "score = data[score_filter]\n",
    "print(score)"
   ]
  },
  {
   "cell_type": "markdown",
   "metadata": {},
   "source": [
    "8. Filter the data score below 2 ( I need to know if these destinations should be removed or there is a problem)\n",
    "Extension"
   ]
  },
  {
   "cell_type": "code",
   "execution_count": 35,
   "metadata": {},
   "outputs": [
    {
     "name": "stdout",
     "output_type": "stream",
     "text": [
      "Empty DataFrame\n",
      "Columns: [destination, feedback_score, hotel_rating, all-inclusive_hotels, most_visited_city]\n",
      "Index: []\n"
     ]
    }
   ],
   "source": [
    "myfilter3 = data[\"feedback_score\"] < 2\n",
    "lowscore = data[myfilter3]\n",
    "print(lowscore)"
   ]
  },
  {
   "cell_type": "markdown",
   "metadata": {},
   "source": [
    "<center><font color=yellow><b>EXTENSION</b></font></center><br><br>"
   ]
  },
  {
   "cell_type": "markdown",
   "metadata": {},
   "source": [
    "1. Is there a correlation between number of all-inclusive hotels and score?"
   ]
  },
  {
   "cell_type": "code",
   "execution_count": 19,
   "metadata": {},
   "outputs": [
    {
     "data": {
      "text/plain": [
       "<AxesSubplot:xlabel='all-inclusive_hotels'>"
      ]
     },
     "execution_count": 19,
     "metadata": {},
     "output_type": "execute_result"
    },
    {
     "data": {
      "image/png": "[encoded data removed]",
      "text/plain": [
       "<Figure size 432x288 with 1 Axes>"
      ]
     },
     "metadata": {
      "needs_background": "light"
     },
     "output_type": "display_data"
    },
    {
     "data": {
      "image/png": "[encoded data removed]",
      "text/plain": [
       "<Figure size 432x288 with 1 Axes>"
      ]
     },
     "metadata": {
      "needs_background": "light"
     },
     "output_type": "display_data"
    }
   ],
   "source": [
    "\n",
    "data.plot.scatter(x=\"all-inclusive_hotels\", y=\"feedback_score\")\n",
    "data.plot.bar(x=\"all-inclusive_hotels\", y=\"feedback_score\")"
   ]
  },
  {
   "cell_type": "markdown",
   "metadata": {},
   "source": [
    "2. Create a data visualisation diagram to show destination and highest scores?"
   ]
  },
  {
   "cell_type": "code",
   "execution_count": 18,
   "metadata": {},
   "outputs": [
    {
     "data": {
      "text/plain": [
       "<AxesSubplot:xlabel='destination'>"
      ]
     },
     "execution_count": 18,
     "metadata": {},
     "output_type": "execute_result"
    },
    {
     "data": {
      "image/png": "[encoded data removed]",
      "text/plain": [
       "<Figure size 432x288 with 1 Axes>"
      ]
     },
     "metadata": {
      "needs_background": "light"
     },
     "output_type": "display_data"
    }
   ],
   "source": [
    "data.plot.bar(x=\"destination\", y=\"feedback_score\")"
   ]
  }
 ],
 "metadata": {
  "kernelspec": {
   "display_name": "Python 3",
   "language": "python",
   "name": "python3"
  },
  "language_info": {
   "codemirror_mode": {
    "name": "ipython",
    "version": 3
   },
   "file_extension": ".py",
   "mimetype": "text/x-python",
   "name": "python",
   "nbconvert_exporter": "python",
   "pygments_lexer": "ipython3",
   "version": "3.9.1"
  },
  "metadata": {
   "interpreter": {
    "hash": "ac59ebe37160ed0dfa835113d9b8498d9f09ceb179beaac4002f036b9467c963"
   }
  }
 },
 "nbformat": 4,
 "nbformat_minor": 4
}
